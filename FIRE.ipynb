{
  "nbformat": 4,
  "nbformat_minor": 0,
  "metadata": {
    "colab": {
      "name": "FIRE.ipynb",
      "version": "0.3.2",
      "provenance": [],
      "collapsed_sections": [],
      "include_colab_link": true
    },
    "kernelspec": {
      "name": "python3",
      "display_name": "Python 3"
    }
  },
  "cells": [
    {
      "cell_type": "markdown",
      "metadata": {
        "id": "view-in-github",
        "colab_type": "text"
      },
      "source": [
        "<a href=\"https://colab.research.google.com/github/onsta/fire-pension-calculator/blob/master/FIRE.ipynb\" target=\"_parent\"><img src=\"https://colab.research.google.com/assets/colab-badge.svg\" alt=\"Open In Colab\"/></a>"
      ]
    },
    {
      "cell_type": "code",
      "metadata": {
        "id": "1j2xR8CkAPWa",
        "colab_type": "code",
        "colab": {}
      },
      "source": [
        "import numpy as np"
      ],
      "execution_count": 0,
      "outputs": []
    },
    {
      "cell_type": "code",
      "metadata": {
        "id": "QfCYuuf0AyN0",
        "colab_type": "code",
        "outputId": "73bd23e2-9d15-4860-ea21-d4949bd84ca1",
        "colab": {
          "base_uri": "https://localhost:8080/",
          "height": 51
        }
      },
      "source": [
        "initial_investment = 1000 #@param { type: \"number\" }\n",
        "initerest_rate_percent = 7 #@param { type: \"slider\", min: 0, max: 100 }\n",
        "inflation_rate_percent = 2 #@param { type: \"slider\", min: 0, max: 100 }\n",
        "compounding_frequency_monthly = 12 \n",
        "monthly_payment = 240 #@param { type: \"number\" }\n",
        "number_of_years = 30 #@param { type: \"slider\", min: 1, max: 100 }\n",
        "withdrawal_rate_percent = 4 #@param { type: \"slider\", min: 0, max: 100 }\n",
        "\n",
        "\n",
        "\n",
        "future_value= np.fv(\n",
        "  (initerest_rate_percent - inflation_rate_percent) / 100 / compounding_frequency_monthly,\n",
        "  number_of_years * compounding_frequency_monthly,\n",
        "  -monthly_payment,\n",
        "  -initial_investment\n",
        ");\n",
        "\n",
        "print(\"Value of inflation adjusted investment after %d years is %10.0f\"%(number_of_years,future_value));\n",
        "print(\"Which will hopefully generate perpetuity of %10.0f\"%(future_value * withdrawal_rate_percent / 100 / 12));\n"
      ],
      "execution_count": 3,
      "outputs": [
        {
          "output_type": "stream",
          "text": [
            "Value of inflation adjusted investment after 30 years is     204210\n",
            "Which will hopefully generate perpetuity of        681\n"
          ],
          "name": "stdout"
        }
      ]
    }
  ]
}